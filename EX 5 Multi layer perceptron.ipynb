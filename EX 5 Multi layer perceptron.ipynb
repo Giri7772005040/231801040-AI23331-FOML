{
 "cells": [
  {
   "cell_type": "code",
   "execution_count": 1,
   "id": "c89be185-9aaa-4f94-bf04-83f514dd5a51",
   "metadata": {},
   "outputs": [],
   "source": [
    "import pandas as pd\n",
    "import numpy as np\n",
    "from sklearn.model_selection import train_test_split\n",
    "from sklearn.neural_network import MLPClassifier\n",
    "from sklearn.metrics import classification_report, confusion_matrix"
   ]
  },
  {
   "cell_type": "code",
   "execution_count": 2,
   "id": "2ce4c9c2-3ae1-491e-8601-6e5fe598c621",
   "metadata": {},
   "outputs": [],
   "source": [
    "bnotes = pd.read_csv('banknote-authentication - banknote-authentication.csv')"
   ]
  },
  {
   "cell_type": "code",
   "execution_count": 3,
   "id": "502e1be4-eeee-4557-8609-7dd7774cfb74",
   "metadata": {},
   "outputs": [],
   "source": [
    "x = bnotes.drop('class', axis=1)  \n",
    "y = bnotes['class']"
   ]
  },
  {
   "cell_type": "code",
   "execution_count": 4,
   "id": "54c64efe-e4fb-4904-90d4-c4b7308fb472",
   "metadata": {},
   "outputs": [],
   "source": [
    "x_train, x_test, y_train, y_test = train_test_split(x, y, test_size=0.2)"
   ]
  },
  {
   "cell_type": "code",
   "execution_count": 5,
   "id": "1e12a726-0a09-4577-9688-4da175f5b128",
   "metadata": {},
   "outputs": [],
   "source": [
    "activations = ['relu', 'logistic', 'tanh', 'identity']"
   ]
  },
  {
   "cell_type": "code",
   "execution_count": 6,
   "id": "87f5f324-809a-4a6d-9319-026ea23182f4",
   "metadata": {},
   "outputs": [
    {
     "name": "stdout",
     "output_type": "stream",
     "text": [
      "\n",
      "Training MLPClassifier with activation function: relu\n",
      "Confusion Matrix:\n",
      "[[149   0]\n",
      " [  0 126]]\n",
      "\n",
      "Classification Report:\n",
      "              precision    recall  f1-score   support\n",
      "\n",
      "           0       1.00      1.00      1.00       149\n",
      "           1       1.00      1.00      1.00       126\n",
      "\n",
      "    accuracy                           1.00       275\n",
      "   macro avg       1.00      1.00      1.00       275\n",
      "weighted avg       1.00      1.00      1.00       275\n",
      "\n",
      "\n",
      "Training MLPClassifier with activation function: logistic\n",
      "Confusion Matrix:\n",
      "[[149   0]\n",
      " [  0 126]]\n",
      "\n",
      "Classification Report:\n",
      "              precision    recall  f1-score   support\n",
      "\n",
      "           0       1.00      1.00      1.00       149\n",
      "           1       1.00      1.00      1.00       126\n",
      "\n",
      "    accuracy                           1.00       275\n",
      "   macro avg       1.00      1.00      1.00       275\n",
      "weighted avg       1.00      1.00      1.00       275\n",
      "\n",
      "\n",
      "Training MLPClassifier with activation function: tanh\n",
      "Confusion Matrix:\n",
      "[[149   0]\n",
      " [  0 126]]\n",
      "\n",
      "Classification Report:\n",
      "              precision    recall  f1-score   support\n",
      "\n",
      "           0       1.00      1.00      1.00       149\n",
      "           1       1.00      1.00      1.00       126\n",
      "\n",
      "    accuracy                           1.00       275\n",
      "   macro avg       1.00      1.00      1.00       275\n",
      "weighted avg       1.00      1.00      1.00       275\n",
      "\n",
      "\n",
      "Training MLPClassifier with activation function: identity\n",
      "Confusion Matrix:\n",
      "[[147   2]\n",
      " [  0 126]]\n",
      "\n",
      "Classification Report:\n",
      "              precision    recall  f1-score   support\n",
      "\n",
      "           0       1.00      0.99      0.99       149\n",
      "           1       0.98      1.00      0.99       126\n",
      "\n",
      "    accuracy                           0.99       275\n",
      "   macro avg       0.99      0.99      0.99       275\n",
      "weighted avg       0.99      0.99      0.99       275\n",
      "\n"
     ]
    }
   ],
   "source": [
    "for activation in activations:\n",
    "    print(f\"\\nTraining MLPClassifier with activation function: {activation}\")\n",
    "    mlp = MLPClassifier(max_iter=500, activation=activation)\n",
    "    mlp.fit(x_train, y_train)\n",
    "    pred = mlp.predict(x_test)\n",
    "    print(\"Confusion Matrix:\")\n",
    "    print(confusion_matrix(y_test, pred))\n",
    "    print(\"\\nClassification Report:\")\n",
    "    print(classification_report(y_test, pred))"
   ]
  },
  {
   "cell_type": "code",
   "execution_count": 7,
   "id": "3b0b1643-1603-4ca0-8feb-783566f03dd5",
   "metadata": {},
   "outputs": [],
   "source": [
    "x_train, x_test, y_train, y_test = train_test_split(x, y, test_size=0.3)"
   ]
  },
  {
   "cell_type": "code",
   "execution_count": 8,
   "id": "c2f085d0-20fe-4893-a1bf-f51b3117edfa",
   "metadata": {},
   "outputs": [
    {
     "name": "stdout",
     "output_type": "stream",
     "text": [
      "\n",
      "Training MLPClassifier with activation function: relu (Train-Test Ratio: 0.3)\n",
      "Confusion Matrix:\n",
      "[[233   0]\n",
      " [  0 179]]\n",
      "\n",
      "Classification Report:\n",
      "              precision    recall  f1-score   support\n",
      "\n",
      "           0       1.00      1.00      1.00       233\n",
      "           1       1.00      1.00      1.00       179\n",
      "\n",
      "    accuracy                           1.00       412\n",
      "   macro avg       1.00      1.00      1.00       412\n",
      "weighted avg       1.00      1.00      1.00       412\n",
      "\n",
      "\n",
      "Training MLPClassifier with activation function: logistic (Train-Test Ratio: 0.3)\n",
      "Confusion Matrix:\n",
      "[[233   0]\n",
      " [  0 179]]\n",
      "\n",
      "Classification Report:\n",
      "              precision    recall  f1-score   support\n",
      "\n",
      "           0       1.00      1.00      1.00       233\n",
      "           1       1.00      1.00      1.00       179\n",
      "\n",
      "    accuracy                           1.00       412\n",
      "   macro avg       1.00      1.00      1.00       412\n",
      "weighted avg       1.00      1.00      1.00       412\n",
      "\n",
      "\n",
      "Training MLPClassifier with activation function: tanh (Train-Test Ratio: 0.3)\n",
      "Confusion Matrix:\n",
      "[[233   0]\n",
      " [  0 179]]\n",
      "\n",
      "Classification Report:\n",
      "              precision    recall  f1-score   support\n",
      "\n",
      "           0       1.00      1.00      1.00       233\n",
      "           1       1.00      1.00      1.00       179\n",
      "\n",
      "    accuracy                           1.00       412\n",
      "   macro avg       1.00      1.00      1.00       412\n",
      "weighted avg       1.00      1.00      1.00       412\n",
      "\n",
      "\n",
      "Training MLPClassifier with activation function: identity (Train-Test Ratio: 0.3)\n",
      "Confusion Matrix:\n",
      "[[231   2]\n",
      " [  0 179]]\n",
      "\n",
      "Classification Report:\n",
      "              precision    recall  f1-score   support\n",
      "\n",
      "           0       1.00      0.99      1.00       233\n",
      "           1       0.99      1.00      0.99       179\n",
      "\n",
      "    accuracy                           1.00       412\n",
      "   macro avg       0.99      1.00      1.00       412\n",
      "weighted avg       1.00      1.00      1.00       412\n",
      "\n"
     ]
    }
   ],
   "source": [
    "for activation in activations:\n",
    "    print(f\"\\nTraining MLPClassifier with activation function: {activation} (Train-Test Ratio: 0.3)\")\n",
    "    mlp = MLPClassifier(max_iter=500, activation=activation)\n",
    "    mlp.fit(x_train, y_train)\n",
    "    pred = mlp.predict(x_test)\n",
    "    print(\"Confusion Matrix:\")\n",
    "    print(confusion_matrix(y_test, pred))\n",
    "    print(\"\\nClassification Report:\")\n",
    "    print(classification_report(y_test, pred))"
   ]
  },
  {
   "cell_type": "code",
   "execution_count": null,
   "id": "9df35140-cf2f-4101-8c95-bdd7fbb324f3",
   "metadata": {},
   "outputs": [],
   "source": []
  }
 ],
 "metadata": {
  "kernelspec": {
   "display_name": "Python 3 (ipykernel)",
   "language": "python",
   "name": "python3"
  },
  "language_info": {
   "codemirror_mode": {
    "name": "ipython",
    "version": 3
   },
   "file_extension": ".py",
   "mimetype": "text/x-python",
   "name": "python",
   "nbconvert_exporter": "python",
   "pygments_lexer": "ipython3",
   "version": "3.13.0"
  }
 },
 "nbformat": 4,
 "nbformat_minor": 5
}
