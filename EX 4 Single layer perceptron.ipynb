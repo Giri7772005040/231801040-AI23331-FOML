{
 "cells": [
  {
   "cell_type": "code",
   "execution_count": 1,
   "id": "58821d47-61a7-40a4-8550-d5cf8428cf08",
   "metadata": {},
   "outputs": [],
   "source": [
    "import numpy as np"
   ]
  },
  {
   "cell_type": "code",
   "execution_count": 2,
   "id": "108bbe61-b586-4d3d-8347-6f08bacfca6a",
   "metadata": {},
   "outputs": [],
   "source": [
    "import pandas as pd"
   ]
  },
  {
   "cell_type": "code",
   "execution_count": 3,
   "id": "74746619-0c56-4e5e-b48a-e7f409d5b151",
   "metadata": {},
   "outputs": [
    {
     "data": {
      "text/plain": [
       "(4, 2)"
      ]
     },
     "execution_count": 3,
     "metadata": {},
     "output_type": "execute_result"
    }
   ],
   "source": [
    "input_value = np.array([[0, 0], [0, 1], [1, 1], [1, 0]])\n",
    "input_value.shape"
   ]
  },
  {
   "cell_type": "code",
   "execution_count": 5,
   "id": "22a9f2e4-bec1-486a-bbe5-04d460fbd3cc",
   "metadata": {
    "collapsed": true,
    "jupyter": {
     "outputs_hidden": true
    }
   },
   "outputs": [
    {
     "data": {
      "text/plain": [
       "(4, 1)"
      ]
     },
     "execution_count": 5,
     "metadata": {},
     "output_type": "execute_result"
    }
   ],
   "source": [
    "output = np.array([0, 0, 1, 0])\n",
    "output = output.reshape(4, 1)\n",
    "output.shape"
   ]
  },
  {
   "cell_type": "code",
   "execution_count": 6,
   "id": "986a20b5-43d6-476c-8b76-0e2e9ae12046",
   "metadata": {},
   "outputs": [],
   "source": [
    "weights = np.array([[0.1], [0.3]])\n",
    "weights\n",
    "bias = 0.2"
   ]
  },
  {
   "cell_type": "code",
   "execution_count": 7,
   "id": "e6a52a60-c050-41dc-adb6-fed18645bd3d",
   "metadata": {},
   "outputs": [],
   "source": [
    "def sigmoid_func(x):\n",
    "    return 1 / (1 + np.exp(-x))"
   ]
  },
  {
   "cell_type": "code",
   "execution_count": 8,
   "id": "b197e17c-88b0-4598-b331-ebe138d9f490",
   "metadata": {},
   "outputs": [],
   "source": [
    "def der(x):\n",
    "    return sigmoid_func(x) * (1 - sigmoid_func(x))"
   ]
  },
  {
   "cell_type": "code",
   "execution_count": 9,
   "id": "08185242-3909-4031-a372-57a727eb5ad8",
   "metadata": {},
   "outputs": [],
   "source": [
    "for epochs in range(15000):\n",
    "    input_arr = input_value\n",
    "    weighted_sum = np.dot(input_arr, weights) + bias\n",
    "    first_output = sigmoid_func(weighted_sum)\n",
    "    error = first_output - output\n",
    "    total_error = np.square(np.subtract(first_output, output)).mean()\n",
    "    first_der = error\n",
    "    second_der = der(first_output)\n",
    "    derivative = first_der * second_der\n",
    "    t_input = input_value.T\n",
    "    final_derivative = np.dot(t_input, derivative)\n",
    "    weights = weights - (0.05 * final_derivative)\n",
    "    for i in derivative:\n",
    "        bias = bias - (0.05 * i)"
   ]
  },
  {
   "cell_type": "code",
   "execution_count": 10,
   "id": "4685d603-474d-4b92-96f9-9862750dfad0",
   "metadata": {},
   "outputs": [
    {
     "name": "stdout",
     "output_type": "stream",
     "text": [
      "[[6.62916366]\n",
      " [6.62916441]]\n"
     ]
    }
   ],
   "source": [
    "print(weights)"
   ]
  },
  {
   "cell_type": "code",
   "execution_count": 11,
   "id": "e1d1a41e-aef4-46ef-ad6b-35b78a2b663c",
   "metadata": {},
   "outputs": [
    {
     "name": "stdout",
     "output_type": "stream",
     "text": [
      "[-10.23197316]\n"
     ]
    }
   ],
   "source": [
    "print(bias)"
   ]
  },
  {
   "cell_type": "code",
   "execution_count": 12,
   "id": "269bcbe9-1b3e-4825-9aec-be0d0f1e55e3",
   "metadata": {},
   "outputs": [
    {
     "name": "stdout",
     "output_type": "stream",
     "text": [
      "[0.02652435]\n"
     ]
    }
   ],
   "source": [
    "pred = np.array([1, 0])\n",
    "result = np.dot(pred, weights) + bias\n",
    "res = sigmoid_func(result)\n",
    "print(res)"
   ]
  },
  {
   "cell_type": "code",
   "execution_count": 13,
   "id": "c86f5c94-5a32-4b2e-9935-7cd21bb76de0",
   "metadata": {},
   "outputs": [
    {
     "name": "stdout",
     "output_type": "stream",
     "text": [
      "[0.95375065]\n"
     ]
    }
   ],
   "source": [
    "pred = np.array([1, 1])\n",
    "result = np.dot(pred, weights) + bias\n",
    "res = sigmoid_func(result)\n",
    "print(res)"
   ]
  },
  {
   "cell_type": "code",
   "execution_count": 14,
   "id": "ee41460d-7300-4f09-90c8-f17963250e68",
   "metadata": {},
   "outputs": [
    {
     "name": "stdout",
     "output_type": "stream",
     "text": [
      "[3.59993686e-05]\n"
     ]
    }
   ],
   "source": [
    "pred = np.array([0, 0])\n",
    "result = np.dot(pred, weights) + bias\n",
    "res = sigmoid_func(result)\n",
    "print(res)"
   ]
  },
  {
   "cell_type": "code",
   "execution_count": 15,
   "id": "18db367f-9cfc-4cd0-9d42-8e8f090e20d2",
   "metadata": {},
   "outputs": [
    {
     "name": "stdout",
     "output_type": "stream",
     "text": [
      "[0.02652437]\n"
     ]
    }
   ],
   "source": [
    "pred = np.array([0, 1])\n",
    "result = np.dot(pred, weights) + bias\n",
    "res = sigmoid_func(result)\n",
    "print(res)"
   ]
  },
  {
   "cell_type": "code",
   "execution_count": null,
   "id": "f3d8d957-f890-4227-a451-98b33cae8003",
   "metadata": {},
   "outputs": [],
   "source": []
  }
 ],
 "metadata": {
  "kernelspec": {
   "display_name": "Python 3 (ipykernel)",
   "language": "python",
   "name": "python3"
  },
  "language_info": {
   "codemirror_mode": {
    "name": "ipython",
    "version": 3
   },
   "file_extension": ".py",
   "mimetype": "text/x-python",
   "name": "python",
   "nbconvert_exporter": "python",
   "pygments_lexer": "ipython3",
   "version": "3.12.5"
  }
 },
 "nbformat": 4,
 "nbformat_minor": 5
}
